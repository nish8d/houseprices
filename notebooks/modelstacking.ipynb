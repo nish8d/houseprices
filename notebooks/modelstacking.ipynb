{
 "cells": [
  {
   "cell_type": "code",
   "execution_count": 12,
   "id": "69b14897-0b15-4cb3-97e3-65673f711240",
   "metadata": {},
   "outputs": [],
   "source": [
    "import joblib\n",
    "import numpy as np\n",
    "from sklearn.ensemble import StackingRegressor\n",
    "from sklearn.linear_model import Ridge, Lasso, LinearRegression\n",
    "from sklearn.ensemble import RandomForestRegressor\n",
    "from xgboost import XGBRegressor\n",
    "from sklearn.metrics import mean_squared_error, mean_absolute_error, r2_score\n"
   ]
  },
  {
   "cell_type": "code",
   "execution_count": 14,
   "id": "0c814dd1-09f0-47bc-8077-9a8f11ccb556",
   "metadata": {},
   "outputs": [],
   "source": [
    "# Load preprocessed data\n",
    "X_train = joblib.load('../data/X_train.pkl')\n",
    "X_test = joblib.load('../data/X_test.pkl')\n",
    "y_train = joblib.load('../data/y_train.pkl')\n",
    "y_test = joblib.load('../data/y_test.pkl')\n",
    "y_train_log = joblib.load('../data/y_train_log.pkl')\n",
    "y_test_log = joblib.load('../data/y_test_log.pkl')"
   ]
  },
  {
   "cell_type": "code",
   "execution_count": 5,
   "id": "42af474b-b5d9-48a3-8b17-bcbd637b1d08",
   "metadata": {},
   "outputs": [],
   "source": [
    "# Define base learners\n",
    "base_models = [\n",
    "    ('ridge', Ridge(alpha=10)),\n",
    "    ('rf', RandomForestRegressor(n_estimators=100, random_state=42)),\n",
    "    ('xgb', XGBRegressor(n_estimators=100, random_state=42))\n",
    "]"
   ]
  },
  {
   "cell_type": "code",
   "execution_count": 6,
   "id": "2b6ed383-5fac-4941-a7d2-9c043c9c6c6e",
   "metadata": {},
   "outputs": [],
   "source": [
    "# Meta-model\n",
    "meta_model = Lasso(alpha=0.001)\n",
    "\n",
    "# Create the stacking model\n",
    "stacked_model = StackingRegressor(estimators=base_models, final_estimator=meta_model, cv=5)"
   ]
  },
  {
   "cell_type": "code",
   "execution_count": 9,
   "id": "eb06537b-c8a5-4a34-97cf-eb8e7998cb02",
   "metadata": {},
   "outputs": [],
   "source": [
    "# Fit on log-transformed y\n",
    "stacked_model.fit(X_train, y_train_log)\n",
    "\n",
    "# Predict and reverse transform\n",
    "y_pred_stack_log = stacked_model.predict(X_test)\n",
    "y_pred_stack = np.expm1(y_pred_stack_log)"
   ]
  },
  {
   "cell_type": "code",
   "execution_count": 20,
   "id": "f971886d-9174-4682-bd7b-872b6fa98822",
   "metadata": {},
   "outputs": [
    {
     "name": "stdout",
     "output_type": "stream",
     "text": [
      "Stacked Model RMSE: 25080.49\n",
      "Stacked Model MAE: 14222.66\n",
      "Stacked Model R²: 0.9180\n"
     ]
    }
   ],
   "source": [
    "rmse = np.sqrt(mean_squared_error(y_test, y_pred_stack))\n",
    "mae = mean_absolute_error(y_test, y_pred_stack)\n",
    "r2 = r2_score(y_test, y_pred_stack)\n",
    "print(f\"Stacked Model RMSE: {rmse:.2f}\")\n",
    "print(f\"Stacked Model MAE: {mae:.2f}\")\n",
    "print(f\"Stacked Model R²: {r2:.4f}\")"
   ]
  },
  {
   "cell_type": "code",
   "execution_count": 21,
   "id": "a92b1dac-2b45-4951-b4bd-30f45743cd5b",
   "metadata": {},
   "outputs": [
    {
     "data": {
      "text/plain": [
       "['../models/stacked_model.pkl']"
      ]
     },
     "execution_count": 21,
     "metadata": {},
     "output_type": "execute_result"
    }
   ],
   "source": [
    "joblib.dump(stacked_model, '../models/stacked_model.pkl')"
   ]
  },
  {
   "cell_type": "code",
   "execution_count": null,
   "id": "0b97dfb4-2639-41f4-8dd4-89fd3a76fd73",
   "metadata": {},
   "outputs": [],
   "source": []
  }
 ],
 "metadata": {
  "kernelspec": {
   "display_name": "Python 3 (ipykernel)",
   "language": "python",
   "name": "python3"
  },
  "language_info": {
   "codemirror_mode": {
    "name": "ipython",
    "version": 3
   },
   "file_extension": ".py",
   "mimetype": "text/x-python",
   "name": "python",
   "nbconvert_exporter": "python",
   "pygments_lexer": "ipython3",
   "version": "3.12.8"
  }
 },
 "nbformat": 4,
 "nbformat_minor": 5
}
